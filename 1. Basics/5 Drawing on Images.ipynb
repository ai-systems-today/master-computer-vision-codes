{
 "cells": [
  {
   "cell_type": "code",
   "execution_count": 1,
   "metadata": {},
   "outputs": [],
   "source": [
    "import cv2\n",
    "import numpy as np"
   ]
  },
  {
   "cell_type": "code",
   "execution_count": 12,
   "metadata": {},
   "outputs": [],
   "source": [
    "# create a black image\n",
    "img = np.zeros((512,512,3),np.uint8)\n",
    "\n",
    "# In black and white\n",
    "img_bw = np.zeros((512,512),np.uint8)\n",
    "\n",
    "cv2.imshow('Image',img)\n",
    "cv2.imshow('Image BW',img)\n",
    "\n",
    "cv2.waitKey(0)\n",
    "cv2.destroyAllWindows()"
   ]
  },
  {
   "cell_type": "markdown",
   "metadata": {},
   "source": [
    "Drawing a line :\n",
    "cv2.line(image,starting point,end point,color in bgr,thickness)"
   ]
  },
  {
   "cell_type": "code",
   "execution_count": 14,
   "metadata": {},
   "outputs": [],
   "source": [
    "# Drawing a blue line 5 pixels thick\n",
    "image = np.zeros((512,512,3),np.uint8)\n",
    "cv2.line(image,(0,0),(511,511),(255,0,0),5)\n",
    "cv2.imshow('Blue line',image)\n",
    "cv2.waitKey(0)\n",
    "\n",
    "cv2.destroyAllWindows()"
   ]
  },
  {
   "cell_type": "code",
   "execution_count": 18,
   "metadata": {},
   "outputs": [],
   "source": [
    "# Drawing a rectangle\n",
    "image = np.zeros((512,512,3),np.uint8)\n",
    "cv2.rectangle(image,(50,35),(300,120),(134,242,96),-1)\n",
    "cv2.imshow('Rectangle',image)\n",
    "cv2.waitKey(0)\n",
    "\n",
    "cv2.destroyAllWindows()"
   ]
  },
  {
   "cell_type": "markdown",
   "metadata": {},
   "source": [
    "Drawing a circle : cv2.circle(image,center,radius,color,thickness)"
   ]
  },
  {
   "cell_type": "code",
   "execution_count": 20,
   "metadata": {},
   "outputs": [],
   "source": [
    "# Drawing a circle\n",
    "image = np.zeros((512,512,3),np.uint8)\n",
    "cv2.circle(image,(250,250),100,(0,0,255),3)\n",
    "cv2.imshow('Circle',image)\n",
    "\n",
    "cv2.waitKey(0)\n",
    "cv2.destroyAllWindows()"
   ]
  },
  {
   "cell_type": "code",
   "execution_count": 29,
   "metadata": {},
   "outputs": [],
   "source": [
    "# Drawing a polygon\n",
    "image = np.zeros((512,512,3),dtype = 'uint8')\n",
    "pts = np.array([[23,43],[305,46],[100,98],[19,204]], np.int32)\n",
    "pts = pts.reshape((-1,1,2))\n",
    "\n",
    "cv2.polylines(image,[pts],True,(0,255,255),1)\n",
    "cv2.imshow('Polygon',image)\n",
    "cv2.waitKey(0)\n",
    "\n",
    "cv2.destroyAllWindows()"
   ]
  },
  {
   "cell_type": "code",
   "execution_count": 31,
   "metadata": {},
   "outputs": [
    {
     "name": "stdout",
     "output_type": "stream",
     "text": [
      "[[[ 23  43]]\n",
      "\n",
      " [[305  46]]\n",
      "\n",
      " [[100  98]]\n",
      "\n",
      " [[ 19 204]]]\n"
     ]
    }
   ],
   "source": [
    "print(pts)"
   ]
  },
  {
   "cell_type": "markdown",
   "metadata": {},
   "source": [
    "Put text on image : cv2.putText(image,'Text to be displayed',bottom left starting point,Font,Font size,Color,Thickness)"
   ]
  },
  {
   "cell_type": "code",
   "execution_count": 40,
   "metadata": {},
   "outputs": [],
   "source": [
    "image = np.zeros((512,512,3), np.uint8)\n",
    "cv2.putText(image,'Hello World!',(10,230),cv2.FONT_HERSHEY_COMPLEX,2,(255,255,0),1)\n",
    "\n",
    "cv2.imshow('Text on image',image)\n",
    "cv2.waitKey(0)\n",
    "\n",
    "cv2.destroyAllWindows()"
   ]
  }
 ],
 "metadata": {
  "kernelspec": {
   "display_name": "Python 3",
   "language": "python",
   "name": "python3"
  },
  "language_info": {
   "codemirror_mode": {
    "name": "ipython",
    "version": 3
   },
   "file_extension": ".py",
   "mimetype": "text/x-python",
   "name": "python",
   "nbconvert_exporter": "python",
   "pygments_lexer": "ipython3",
   "version": "3.7.1"
  }
 },
 "nbformat": 4,
 "nbformat_minor": 2
}
