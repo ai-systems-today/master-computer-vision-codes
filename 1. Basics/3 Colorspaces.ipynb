{
 "cells": [
  {
   "cell_type": "code",
   "execution_count": 1,
   "metadata": {},
   "outputs": [],
   "source": [
    "import cv2\n",
    "import numpy as np"
   ]
  },
  {
   "cell_type": "code",
   "execution_count": 2,
   "metadata": {},
   "outputs": [
    {
     "name": "stdout",
     "output_type": "stream",
     "text": [
      "G:\\[FreeTutorials.Us] master-computer-vision-with-opencv-in-python\\master-computer-vision-codes\\1. Basics\n"
     ]
    }
   ],
   "source": [
    "import os\n",
    "print(os.getcwd())"
   ]
  },
  {
   "cell_type": "code",
   "execution_count": 3,
   "metadata": {},
   "outputs": [],
   "source": [
    "img = cv2.imread('G:\\[FreeTutorials.Us] master-computer-vision-with-opencv-in-python\\material\\Master OpenCV\\images\\input.jpg')"
   ]
  },
  {
   "cell_type": "markdown",
   "metadata": {},
   "source": [
    "Though we say RGB the colors are stored as BGR in a 3d array"
   ]
  },
  {
   "cell_type": "code",
   "execution_count": 13,
   "metadata": {},
   "outputs": [
    {
     "name": "stdout",
     "output_type": "stream",
     "text": [
      "13 19 32\n",
      "[12 18 29]\n",
      "(830, 1245, 3)\n"
     ]
    }
   ],
   "source": [
    "B,G,R = img[10][50]\n",
    "print(B,G,R)\n",
    "print(img[0][0])\n",
    "print(img.shape)"
   ]
  },
  {
   "cell_type": "code",
   "execution_count": 12,
   "metadata": {},
   "outputs": [
    {
     "name": "stdout",
     "output_type": "stream",
     "text": [
      "(830, 1245)\n",
      "22\n"
     ]
    }
   ],
   "source": [
    "#convert to grayscale and see what happens\n",
    "gray_scale = cv2.cvtColor(img, cv2.COLOR_BGR2GRAY)\n",
    "\n",
    "print(gray_scale.shape) # 2 dimensional\n",
    "print(gray_scale[10][50])"
   ]
  },
  {
   "cell_type": "code",
   "execution_count": 16,
   "metadata": {},
   "outputs": [],
   "source": [
    "# convert HSV. It is in useful color filtering applications\n",
    "hsv_img = cv2.cvtColor(img, cv2.COLOR_BGR2HSV)\n",
    "\n",
    "cv2.imshow('HSV Image',hsv_img)\n",
    "cv2.imshow('Hue channel',hsv_img[:,:,0])\n",
    "cv2.imshow('Saturation channel', hsv_img[:,:,1])\n",
    "cv2.imshow('Value channel', hsv_img[:,:,2])\n",
    "cv2.waitKey(0)\n",
    "\n",
    "\n",
    "cv2.destroyAllWindows()"
   ]
  },
  {
   "cell_type": "code",
   "execution_count": 20,
   "metadata": {},
   "outputs": [
    {
     "name": "stdout",
     "output_type": "stream",
     "text": [
      "(830, 1245, 3)\n",
      "[ 11 149  29]\n"
     ]
    }
   ],
   "source": [
    "print(hsv_img.shape)\n",
    "print(hsv_img[0][0])"
   ]
  },
  {
   "cell_type": "code",
   "execution_count": 24,
   "metadata": {},
   "outputs": [],
   "source": [
    "#individual channels in RGB\n",
    "B,G,R = cv2.split(img)\n",
    "\n",
    "cv2.imshow('blue channel',B)\n",
    "cv2.imshow('green channel',G)\n",
    "cv2.imshow('red channel',R)\n",
    "cv2.waitKey(0)\n",
    "cv2.destroyAllWindows()\n",
    "\n",
    "merged = cv2.merge([B,G,R])\n",
    "cv2.imshow('Merged image',merged)\n",
    "cv2.waitKey(0)\n",
    "\n",
    "# amplify green color\n",
    "merged = cv2.merge([B,G+100,R])\n",
    "cv2.imshow('Green color amplified',merged)\n",
    "cv2.waitKey(0)\n",
    "\n",
    "cv2.destroyAllWindows()"
   ]
  },
  {
   "cell_type": "markdown",
   "metadata": {},
   "source": [
    "The individual channels got display in grayscale. We want them in color"
   ]
  },
  {
   "cell_type": "code",
   "execution_count": 40,
   "metadata": {},
   "outputs": [],
   "source": [
    "\n",
    "zeros = np.zeros(img.shape[:2], dtype='uint8')\n",
    "\n",
    "cv2.imshow('blue',cv2.merge([B,zeros,zeros]))\n",
    "cv2.imshow('green',cv2.merge([zeros,G,zeros]))\n",
    "cv2.imshow('red',cv2.merge([zeros,zeros,R]))\n",
    "cv2.waitKey(0)\n",
    "\n",
    "cv2.destroyAllWindows()\n"
   ]
  },
  {
   "cell_type": "code",
   "execution_count": 41,
   "metadata": {},
   "outputs": [
    {
     "name": "stdout",
     "output_type": "stream",
     "text": [
      "(830, 1245)\n"
     ]
    }
   ],
   "source": [
    "print(img.shape[:2])"
   ]
  }
 ],
 "metadata": {
  "kernelspec": {
   "display_name": "Python 3",
   "language": "python",
   "name": "python3"
  },
  "language_info": {
   "codemirror_mode": {
    "name": "ipython",
    "version": 3
   },
   "file_extension": ".py",
   "mimetype": "text/x-python",
   "name": "python",
   "nbconvert_exporter": "python",
   "pygments_lexer": "ipython3",
   "version": "3.7.1"
  }
 },
 "nbformat": 4,
 "nbformat_minor": 2
}
