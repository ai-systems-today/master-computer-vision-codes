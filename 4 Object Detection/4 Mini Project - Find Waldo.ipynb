{
 "cells": [
  {
   "cell_type": "code",
   "execution_count": 1,
   "metadata": {},
   "outputs": [],
   "source": [
    "import cv2\n",
    "import numpy as np"
   ]
  },
  {
   "cell_type": "code",
   "execution_count": 2,
   "metadata": {},
   "outputs": [
    {
     "name": "stdout",
     "output_type": "stream",
     "text": [
      "G:\\[FreeTutorials.Us] master-computer-vision-with-opencv-in-python\\master-computer-vision-codes\n"
     ]
    }
   ],
   "source": [
    "import os\n",
    "print(os.getcwd())"
   ]
  },
  {
   "cell_type": "code",
   "execution_count": 8,
   "metadata": {},
   "outputs": [],
   "source": [
    "image = cv2.imread('G:\\[FreeTutorials.Us] master-computer-vision-with-opencv-in-python/material/Master OpenCV/images/WaldoBeach.jpg')\n",
    "cv2.imshow('Waldo?',image)\n",
    "cv2.waitKey(0)\n",
    "\n",
    "gray = cv2.cvtColor(image,cv2.COLOR_BGR2GRAY)\n",
    "\n",
    "# Load template image\n",
    "template = cv2.imread('G:\\[FreeTutorials.Us] master-computer-vision-with-opencv-in-python/material/Master OpenCV/images/waldo.jpg',0)\n",
    "\n",
    "result = cv2.matchTemplate(gray, template, cv2.TM_CCOEFF)\n",
    "min_val, max_val, min_loc, max_loc = cv2.minMaxLoc(result)\n",
    "\n",
    "# Create Bounding box\n",
    "top_left = max_loc\n",
    "bottom_right = (top_left[0]+50,top_left[1]+50)\n",
    "cv2.rectangle(image, top_left, bottom_right,(0,0,255),5)\n",
    "\n",
    "cv2.imshow('Waldo?', image)\n",
    "cv2.waitKey(0)\n",
    "\n",
    "cv2.destroyAllWindows()"
   ]
  },
  {
   "cell_type": "code",
   "execution_count": 9,
   "metadata": {},
   "outputs": [
    {
     "name": "stdout",
     "output_type": "stream",
     "text": [
      "[[-339940.47   -375053.5    -478816.7    ...   56082.887    61427.277\n",
      "    63907.95  ]\n",
      " [-363658.53   -412670.16   -485318.66   ...   63245.69     72104.766\n",
      "    77833.44  ]\n",
      " [-377911.53   -424517.84   -429062.38   ...   54695.934    47701.67\n",
      "    49598.332 ]\n",
      " ...\n",
      " [-136851.55    -43390.676   -37062.574  ... -892431.94   -838984.\n",
      "  -891938.3   ]\n",
      " [ -52407.14     12022.2295 -103478.69   ... -743021.6    -720573.5\n",
      "  -689426.4   ]\n",
      " [ -95841.445   -38454.254  -128823.9    ... -461407.84   -461420.72\n",
      "  -380609.66  ]]\n"
     ]
    }
   ],
   "source": [
    "print(result)"
   ]
  }
 ],
 "metadata": {
  "kernelspec": {
   "display_name": "Python 3",
   "language": "python",
   "name": "python3"
  },
  "language_info": {
   "codemirror_mode": {
    "name": "ipython",
    "version": 3
   },
   "file_extension": ".py",
   "mimetype": "text/x-python",
   "name": "python",
   "nbconvert_exporter": "python",
   "pygments_lexer": "ipython3",
   "version": "3.7.1"
  }
 },
 "nbformat": 4,
 "nbformat_minor": 2
}
