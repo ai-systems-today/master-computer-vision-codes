{
 "cells": [
  {
   "cell_type": "code",
   "execution_count": 1,
   "metadata": {},
   "outputs": [],
   "source": [
    "import cv2\n",
    "import numpy as np"
   ]
  },
  {
   "cell_type": "code",
   "execution_count": 2,
   "metadata": {},
   "outputs": [
    {
     "name": "stdout",
     "output_type": "stream",
     "text": [
      "G:\\[FreeTutorials.Us] master-computer-vision-with-opencv-in-python\\master-computer-vision-codes\\2. Image Manipulation\n"
     ]
    }
   ],
   "source": [
    "import os\n",
    "print(os.getcwd())"
   ]
  },
  {
   "cell_type": "code",
   "execution_count": 3,
   "metadata": {},
   "outputs": [],
   "source": [
    "image = cv2.imread('G:\\[FreeTutorials.Us] master-computer-vision-with-opencv-in-python\\material\\Master OpenCV\\images\\input.jpg')"
   ]
  },
  {
   "cell_type": "markdown",
   "metadata": {},
   "source": [
    "We use cv2.warpAffine(image,Translation matrix,size of image to carry out affine transformations on an image."
   ]
  },
  {
   "cell_type": "code",
   "execution_count": 12,
   "metadata": {},
   "outputs": [],
   "source": [
    "# Performing translation\n",
    "\n",
    "size = image.shape[:2]\n",
    "Tx,Ty = size[0]/4,size[1]/4\n",
    "T = np.float32([[1,0,Tx],[0,1,Ty]]) # defining translation matrix\n",
    "\n",
    "trans = cv2.warpAffine(image,T,size)\n",
    "\n",
    "cv2.imshow('Original',image)\n",
    "cv2.imshow('Translated Image',trans)\n",
    "cv2.waitKey(0)\n",
    "cv2.destroyAllWindows()"
   ]
  },
  {
   "cell_type": "markdown",
   "metadata": {},
   "source": [
    "We use cv2.getRotationMatrix2D((x_centre,y_centre),angle of rotation,scale) to get the rotation matrix about a point. Then use cv2.warpAffine() to carry out the transformation"
   ]
  },
  {
   "cell_type": "code",
   "execution_count": 15,
   "metadata": {},
   "outputs": [],
   "source": [
    "# rotating the image about the centre by 30 degree and scaling it 0.5\n",
    "T = cv2.getRotationMatrix2D((size[0]/2,size[1]/2),30,0.5) # rotation is anticlockwise\n",
    "rotImg = cv2.warpAffine(image,T,size)\n",
    "\n",
    "cv2.imshow('Rotation',rotImg)\n",
    "cv2.waitKey(0)\n",
    "\n",
    "cv2.destroyAllWindows()"
   ]
  },
  {
   "cell_type": "code",
   "execution_count": 16,
   "metadata": {},
   "outputs": [],
   "source": [
    "# Using transpose function to rotate by 90 degree\n",
    "rot_2 = cv2.transpose(image)\n",
    "cv2.imshow('Rotation using transpose',rot_2)\n",
    "cv2.waitKey(0)\n",
    "\n",
    "cv2.destroyAllWindows()"
   ]
  }
 ],
 "metadata": {
  "kernelspec": {
   "display_name": "Python 3",
   "language": "python",
   "name": "python3"
  },
  "language_info": {
   "codemirror_mode": {
    "name": "ipython",
    "version": 3
   },
   "file_extension": ".py",
   "mimetype": "text/x-python",
   "name": "python",
   "nbconvert_exporter": "python",
   "pygments_lexer": "ipython3",
   "version": "3.7.1"
  }
 },
 "nbformat": 4,
 "nbformat_minor": 2
}
