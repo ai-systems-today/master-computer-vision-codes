{
 "cells": [
  {
   "cell_type": "code",
   "execution_count": 1,
   "metadata": {},
   "outputs": [],
   "source": [
    "import cv2\n",
    "import numpy as np"
   ]
  },
  {
   "cell_type": "code",
   "execution_count": 2,
   "metadata": {},
   "outputs": [
    {
     "name": "stdout",
     "output_type": "stream",
     "text": [
      "G:\\[FreeTutorials.Us] master-computer-vision-with-opencv-in-python\\master-computer-vision-codes\\2. Image Manipulation\n"
     ]
    }
   ],
   "source": [
    "import os\n",
    "print(os.getcwd())"
   ]
  },
  {
   "cell_type": "code",
   "execution_count": 3,
   "metadata": {},
   "outputs": [],
   "source": [
    "image = cv2.imread('G:\\[FreeTutorials.Us] master-computer-vision-with-opencv-in-python\\material\\Master OpenCV\\images\\elephant.jpg')"
   ]
  },
  {
   "cell_type": "code",
   "execution_count": 11,
   "metadata": {},
   "outputs": [],
   "source": [
    "cv2.imshow('Original',image)\n",
    "cv2.waitKey(0)\n",
    "\n",
    "cv2.destroyAllWindows()"
   ]
  },
  {
   "cell_type": "code",
   "execution_count": 7,
   "metadata": {},
   "outputs": [],
   "source": [
    "# creating 3X3 kernel\n",
    "kernel_3x3 = np.ones((3,3),dtype='float32')/9\n",
    "\n",
    "# cv2.filter2D() is used to convolve the image with kernel\n",
    "blurred = cv2.filter2D(image,-1,kernel_3x3)\n",
    "\n",
    "cv2.imshow('Blurred 3x3',blurred)\n",
    "cv2.waitKey(0)\n",
    "\n",
    "kernel_7x7= np.ones((7,7),dtype = 'float32')/49\n",
    "blurred = cv2.filter2D(image,-1,kernel_7x7)\n",
    "cv2.imshow('Blurred 7x7',blurred)\n",
    "cv2.waitKey(0)\n",
    "\n",
    "cv2.destroyAllWindows()"
   ]
  },
  {
   "cell_type": "markdown",
   "metadata": {},
   "source": [
    "## Other blurring methods in OpenCV\n",
    "Normalized box filter - Averaging done by convolving with a normalized box filter. Takes the pixels in the box and replaces the central element. Box size needs to be odd\n",
    "cv2.blur(image,size of box) <br>\n",
    "\n",
    "Gaussian blur - Gaussian distribution. Instead of box filter, gaussian kernel\n",
    "cv2.GaussianBlur(image,size of box,0)\n",
    "\n",
    "Median blur - Replaces the central element by the median value under kernel area\n",
    "cv2.medianBlur(image,n)\n",
    "\n",
    "Bilateral - Very effective for noise removal while keep edges sharp\n",
    "cv2.bilateralFilter(image,x,y,z)\n",
    "\n"
   ]
  },
  {
   "cell_type": "code",
   "execution_count": 13,
   "metadata": {},
   "outputs": [],
   "source": [
    "blur = cv2.blur(image,(3,3))\n",
    "gaussian  = cv2.GaussianBlur(image,(5,5),0)\n",
    "median = cv2.medianBlur(image,5)\n",
    "bilateral = cv2.bilateralFilter(image,9,75,75)\n",
    "\n",
    "cv2.imshow('Original',image)\n",
    "cv2.waitKey(0)\n",
    "\n",
    "cv2.imshow('blur',blur)\n",
    "cv2.waitKey(0)\n",
    "\n",
    "cv2.imshow('gaussian',gaussian)\n",
    "cv2.waitKey(0)\n",
    "\n",
    "cv2.imshow('median',median)\n",
    "cv2.waitKey(0)\n",
    "\n",
    "cv2.imshow('bilateral',bilateral)\n",
    "cv2.waitKey(0)\n",
    "\n",
    "cv2.destroyAllWindows()"
   ]
  },
  {
   "cell_type": "code",
   "execution_count": 20,
   "metadata": {},
   "outputs": [],
   "source": [
    "bilateral_2 = cv2.bilateralFilter(bilateral_2,15,100,100)\n",
    "cv2.imshow('bilateral',bilateral)\n",
    "cv2.waitKey(0)\n",
    "\n",
    "cv2.destroyAllWindows()"
   ]
  },
  {
   "cell_type": "markdown",
   "metadata": {},
   "source": [
    "https://docs.opencv.org/3.1.0/d4/d13/tutorial_py_filtering.html"
   ]
  },
  {
   "cell_type": "markdown",
   "metadata": {},
   "source": [
    "## Image De-noising\n",
    "<img src=\"image.png\">\n",
    "\n",
    "Visit https://opencv-python-tutroals.readthedocs.io/en/latest/py_tutorials/py_photo/py_non_local_means/py_non_local_means.html"
   ]
  },
  {
   "cell_type": "code",
   "execution_count": 21,
   "metadata": {},
   "outputs": [],
   "source": [
    "dst = cv2.fastNlMeansDenoisingColored(image,None,6,6,7,21)\n",
    "cv2.imshow('Fast means denoising',dst)\n",
    "cv2.waitKey(0)\n",
    "\n",
    "cv2.destroyAllWindows()\n",
    "\n",
    "# Parameters after none are :-\n",
    "# h - filter strength(5-10 is good)\n",
    "# Next is h for color components, set as same value for as h again"
   ]
  }
 ],
 "metadata": {
  "kernelspec": {
   "display_name": "Python 3",
   "language": "python",
   "name": "python3"
  },
  "language_info": {
   "codemirror_mode": {
    "name": "ipython",
    "version": 3
   },
   "file_extension": ".py",
   "mimetype": "text/x-python",
   "name": "python",
   "nbconvert_exporter": "python",
   "pygments_lexer": "ipython3",
   "version": "3.7.1"
  }
 },
 "nbformat": 4,
 "nbformat_minor": 2
}
