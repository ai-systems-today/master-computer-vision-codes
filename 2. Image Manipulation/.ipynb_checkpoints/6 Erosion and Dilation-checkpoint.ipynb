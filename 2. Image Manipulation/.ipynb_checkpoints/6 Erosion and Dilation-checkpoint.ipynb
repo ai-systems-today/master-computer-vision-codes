{
 "cells": [
  {
   "cell_type": "code",
   "execution_count": 1,
   "metadata": {},
   "outputs": [],
   "source": [
    "import cv2\n",
    "import numpy as np"
   ]
  },
  {
   "cell_type": "code",
   "execution_count": 2,
   "metadata": {},
   "outputs": [
    {
     "name": "stdout",
     "output_type": "stream",
     "text": [
      "G:\\[FreeTutorials.Us] master-computer-vision-with-opencv-in-python\\master-computer-vision-codes\\2. Image Manipulation\n"
     ]
    }
   ],
   "source": [
    "import os\n",
    "print(os.getcwd())"
   ]
  },
  {
   "cell_type": "code",
   "execution_count": 3,
   "metadata": {},
   "outputs": [],
   "source": [
    "image = cv2.imread('G:\\[FreeTutorials.Us] master-computer-vision-with-opencv-in-python\\material\\Master OpenCV\\images\\opencv_inv.png',0)"
   ]
  },
  {
   "cell_type": "code",
   "execution_count": 5,
   "metadata": {},
   "outputs": [],
   "source": [
    "cv2.imshow('Original',image)\n",
    "cv2.waitKey(0)\n",
    "\n",
    "kernel = np.ones((5,5),np.uint8)\n",
    "\n",
    "# Erosion is removing pixels near the boundary\n",
    "# Dilation is adding pixels near the boundary\n",
    "\n",
    "eroded = cv2.erode(image,kernel,iterations = 1)\n",
    "cv2.imshow('Erosion',eroded)\n",
    "cv2.waitKey(0)\n",
    "dilated = cv2.dilate(image,kernel,iterations = 1)\n",
    "cv2.imshow('Dilation',dilated)\n",
    "cv2.waitKey(0)\n",
    "\n",
    "# Opening(erosion than dilation) and closing(dilation than erosion) - good for noise removal\n",
    "opening = cv2.morphologyEx(image,cv2.MORPH_OPEN,kernel)\n",
    "closing = cv2.morphologyEx(image,cv2.MORPH_CLOSE,kernel)\n",
    "cv2.imshow('Opening',opening)\n",
    "cv2.imshow('Closing',closing)\n",
    "cv2.waitKey(0)\n",
    "\n",
    "\n",
    "cv2.destroyAllWindows()\n"
   ]
  },
  {
   "cell_type": "code",
   "execution_count": null,
   "metadata": {},
   "outputs": [],
   "source": []
  }
 ],
 "metadata": {
  "kernelspec": {
   "display_name": "Python 3",
   "language": "python",
   "name": "python3"
  },
  "language_info": {
   "codemirror_mode": {
    "name": "ipython",
    "version": 3
   },
   "file_extension": ".py",
   "mimetype": "text/x-python",
   "name": "python",
   "nbconvert_exporter": "python",
   "pygments_lexer": "ipython3",
   "version": "3.7.1"
  }
 },
 "nbformat": 4,
 "nbformat_minor": 2
}
