{
 "cells": [
  {
   "cell_type": "code",
   "execution_count": 1,
   "metadata": {},
   "outputs": [],
   "source": [
    "import cv2\n",
    "import numpy as np"
   ]
  },
  {
   "cell_type": "code",
   "execution_count": 2,
   "metadata": {},
   "outputs": [
    {
     "name": "stdout",
     "output_type": "stream",
     "text": [
      "G:\\[FreeTutorials.Us] master-computer-vision-with-opencv-in-python\\master-computer-vision-codes\\2. Image Manipulation\n"
     ]
    }
   ],
   "source": [
    "import os\n",
    "print(os.getcwd())"
   ]
  },
  {
   "cell_type": "code",
   "execution_count": 4,
   "metadata": {},
   "outputs": [],
   "source": [
    "image = cv2.imread('G:\\[FreeTutorials.Us] master-computer-vision-with-opencv-in-python\\material\\Master OpenCV\\images\\input.jpg')\n",
    "cv2.imshow('Original',image)\n",
    "cv2.waitKey(0)\n",
    "\n",
    "cv2.destroyAllWindows()"
   ]
  },
  {
   "cell_type": "raw",
   "metadata": {},
   "source": [
    "We use cv2.resize(image,dsize(output image size),x scale,y scale,interpolation method)\n",
    "By default interpolation is cv2.INTER_LINEAR\n",
    "Other options are :\n",
    "cv2.INTER_AREA - good for shrinking or downsampling\n",
    "cv2.INTER_CUBIC - Better than linear\n",
    "cv2.INTER_NEAREST - Fastest\n",
    "cv2.INTER_LINEAR - Good for zooming or upsampling\n",
    "cv2.INTER_LANCZOS4 - Best\n",
    "\n",
    "Note - If we specify the scales, then pass NONE in dsize. If we want specific size of output image, pass it in dsize and donot fill scale values"
   ]
  },
  {
   "cell_type": "code",
   "execution_count": 10,
   "metadata": {},
   "outputs": [],
   "source": [
    "# Shrinking image to 3/4th of it's size\n",
    "resize1 = cv2.resize(image,None,fx=0.75,fy=0.75,interpolation = cv2.INTER_AREA)\n",
    "cv2.imshow('Shrink',resize1)\n",
    "cv2.waitKey(0)\n",
    "\n",
    "resize2 = cv2.resize(image,None,fx=2,fy=2,interpolation = cv2.INTER_CUBIC)\n",
    "cv2.imshow('Enlarged',resize2)\n",
    "cv2.waitKey(0)\n",
    "\n",
    "resize3 = cv2.resize(image,(900,400),interpolation = cv2.INTER_LANCZOS4)\n",
    "cv2.imshow('Skew expansion',resize3)\n",
    "cv2.waitKey(0)\n",
    "\n",
    "cv2.destroyAllWindows()"
   ]
  },
  {
   "cell_type": "markdown",
   "metadata": {},
   "source": [
    "Image Pyramiding is creating different scaled versions(multiple of 2) of image quickly using inbuilt functions. Useful for object detection"
   ]
  },
  {
   "cell_type": "code",
   "execution_count": 11,
   "metadata": {},
   "outputs": [],
   "source": [
    "smaller = cv2.pyrDown(image)\n",
    "larger = cv2.pyrUp(image)\n",
    "cv2.imshow('Smaller',smaller)\n",
    "cv2.waitKey(0)\n",
    "cv2.imshow('Larger',larger)\n",
    "cv2.waitKey(0)\n",
    "\n",
    "cv2.destroyAllWindows()"
   ]
  },
  {
   "cell_type": "markdown",
   "metadata": {},
   "source": [
    "Cropping an image - No ibbuilt function. But as image is stored as a matrix, we can use slicing concept to crop an image."
   ]
  },
  {
   "cell_type": "code",
   "execution_count": 17,
   "metadata": {},
   "outputs": [],
   "source": [
    "size = image.shape[:2]\n",
    "startRow,endRow = int(size[0]*0.25), int(size[0]*0.75)\n",
    "startCol,endCol = int(size[1]*0.25), int(size[1]*0.75)\n",
    "\n",
    "cropped = image[startRow:endRow,startCol:endCol]\n",
    "cv2.imshow('Original',image)\n",
    "cv2.waitKey(0)\n",
    "cv2.imshow('Cropped Image',cropped)\n",
    "cv2.waitKey(0)\n",
    "\n",
    "cv2.destroyAllWindows()"
   ]
  }
 ],
 "metadata": {
  "kernelspec": {
   "display_name": "Python 3",
   "language": "python",
   "name": "python3"
  },
  "language_info": {
   "codemirror_mode": {
    "name": "ipython",
    "version": 3
   },
   "file_extension": ".py",
   "mimetype": "text/x-python",
   "name": "python",
   "nbconvert_exporter": "python",
   "pygments_lexer": "ipython3",
   "version": "3.7.1"
  }
 },
 "nbformat": 4,
 "nbformat_minor": 2
}
