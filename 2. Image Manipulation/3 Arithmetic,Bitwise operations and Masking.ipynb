{
 "cells": [
  {
   "cell_type": "code",
   "execution_count": 1,
   "metadata": {},
   "outputs": [],
   "source": [
    "import cv2\n",
    "import numpy as np"
   ]
  },
  {
   "cell_type": "code",
   "execution_count": 2,
   "metadata": {},
   "outputs": [
    {
     "name": "stdout",
     "output_type": "stream",
     "text": [
      "G:\\[FreeTutorials.Us] master-computer-vision-with-opencv-in-python\\master-computer-vision-codes\\2. Image Manipulation\n"
     ]
    }
   ],
   "source": [
    "import os\n",
    "print(os.getcwd())"
   ]
  },
  {
   "cell_type": "code",
   "execution_count": 3,
   "metadata": {},
   "outputs": [],
   "source": [
    "image = cv2.imread('G:\\[FreeTutorials.Us] master-computer-vision-with-opencv-in-python\\material\\Master OpenCV\\images\\input.jpg')\n"
   ]
  },
  {
   "cell_type": "code",
   "execution_count": 4,
   "metadata": {},
   "outputs": [],
   "source": [
    "M = np.ones(image.shape, dtype= 'uint8') * 75\n",
    "\n",
    "added = cv2.add(image,M)\n",
    "subtracted = cv2.subtract(image,M)\n",
    "\n",
    "cv2.imshow('Original',image)\n",
    "cv2.waitKey(0)\n",
    "cv2.imshow('Added',added)\n",
    "cv2.waitKey(0)\n",
    "cv2.imshow('Subtracted',subtracted)\n",
    "cv2.waitKey(0)\n",
    "\n",
    "cv2.destroyAllWindows()"
   ]
  },
  {
   "cell_type": "markdown",
   "metadata": {},
   "source": [
    "## Bitwise operations and Masking"
   ]
  },
  {
   "cell_type": "code",
   "execution_count": 24,
   "metadata": {},
   "outputs": [],
   "source": [
    "# We create 2 images in grayscale for illustration of bitwise operations\n",
    "\n",
    "square = np.zeros((300,300),dtype = 'uint8')\n",
    "cv2.rectangle(square,(50,50),(250,250),255,-1)\n",
    "cv2.imshow('Square',square)\n",
    "cv2.waitKey(0)\n",
    "\n",
    "ellipse = np.zeros((300,300),dtype = 'uint8')\n",
    "cv2.ellipse(ellipse,(150,150),(150,150),30,0,180,255,-1)\n",
    "# cv2.ellipse(image,(coordinates of centre),(length of major and minor axes),angle of rotation anticlockwise,start angle,end angle,color,thickness)\n",
    "cv2.imshow('Ellipse',ellipse)\n",
    "cv2.waitKey(0)\n",
    "\n",
    "cv2.destroyAllWindows()"
   ]
  },
  {
   "cell_type": "code",
   "execution_count": 26,
   "metadata": {},
   "outputs": [],
   "source": [
    "# Bitwise operations\n",
    "# bitwise_and - Shows the intersection\n",
    "And = cv2.bitwise_and(square,ellipse)\n",
    "Or = cv2.bitwise_or(square,ellipse)\n",
    "Not = cv2.bitwise_not(square)\n",
    "Xor = cv2.bitwise_xor(square,ellipse)\n",
    "\n",
    "cv2.imshow('AND',And)\n",
    "cv2.waitKey(0)\n",
    "\n",
    "cv2.imshow('Or',Or)\n",
    "cv2.waitKey(0)\n",
    "\n",
    "cv2.imshow('Not',Not)\n",
    "cv2.waitKey(0)\n",
    "\n",
    "cv2.imshow('Xor',Xor)\n",
    "cv2.waitKey(0)\n",
    "\n",
    "cv2.destroyAllWindows()"
   ]
  }
 ],
 "metadata": {
  "kernelspec": {
   "display_name": "Python 3",
   "language": "python",
   "name": "python3"
  },
  "language_info": {
   "codemirror_mode": {
    "name": "ipython",
    "version": 3
   },
   "file_extension": ".py",
   "mimetype": "text/x-python",
   "name": "python",
   "nbconvert_exporter": "python",
   "pygments_lexer": "ipython3",
   "version": "3.7.1"
  }
 },
 "nbformat": 4,
 "nbformat_minor": 2
}
