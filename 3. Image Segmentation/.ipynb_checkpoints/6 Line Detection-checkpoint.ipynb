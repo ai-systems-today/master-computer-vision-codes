{
 "cells": [
  {
   "cell_type": "markdown",
   "metadata": {},
   "source": [
    "<img src = 'houghLines.jpg'>"
   ]
  },
  {
   "cell_type": "markdown",
   "metadata": {},
   "source": [
    "# Line Detection using Hough Lines\n",
    "<b>cv2.HoughLines(binarized\\thresholdedImage, rho accuracy, theta accuracy, threshold)</b>\n",
    "\n",
    "- Threshold is the minimum vote for it to be considered a line"
   ]
  },
  {
   "cell_type": "code",
   "execution_count": 1,
   "metadata": {},
   "outputs": [],
   "source": [
    "import cv2\n",
    "import numpy as np"
   ]
  },
  {
   "cell_type": "code",
   "execution_count": 2,
   "metadata": {},
   "outputs": [
    {
     "name": "stdout",
     "output_type": "stream",
     "text": [
      "G:\\[FreeTutorials.Us] master-computer-vision-with-opencv-in-python\\master-computer-vision-codes\\3. Image Segmentation\n"
     ]
    }
   ],
   "source": [
    "import os \n",
    "print(os.getcwd())"
   ]
  },
  {
   "cell_type": "code",
   "execution_count": 19,
   "metadata": {},
   "outputs": [],
   "source": [
    "image = cv2.imread('G:\\[FreeTutorials.Us] master-computer-vision-with-opencv-in-python\\material\\Master OpenCV\\images\\soduku.jpg')\n",
    "\n",
    "gray = cv2.cvtColor(image, cv2.COLOR_BGR2GRAY)\n",
    "edges = cv2.Canny(gray, 100, 170, apertureSize = 3)\n",
    "\n",
    "# Run Hough lines using a rho accuracy of 1 pixel\n",
    "# theta accuracy of np.pi/180 which is 1 degree\n",
    "# Our line threshold is set to 240 i.e the number of points on line\n",
    "lines = cv2.HoughLines(edges, 1 , np.pi/180 ,240)\n",
    "\n",
    "# We iterate though each line and convert it to the format\n",
    "# required by cv.lines for which we require the end points\n",
    "for i in range(len(lines)):\n",
    "    for rho, theta in lines[i]:\n",
    "        a,b = np.cos(theta), np.sin(theta)\n",
    "        x0,y0 = a*rho, b*rho\n",
    "        x1, y1 = int(x0+1000*(-b)), int(y0+1000*(a))\n",
    "        x2, y2 = int(x0-1000*(-b)), int(y0-1000*(a))\n",
    "        cv2.line(image,(x1,y1),(x2,y2),(255,0,0),2)\n",
    "        \n",
    "cv2.imshow('Hough Lines', image)\n",
    "cv2.waitKey(0)\n",
    "cv2.destroyAllWindows()"
   ]
  },
  {
   "cell_type": "markdown",
   "metadata": {},
   "source": [
    "# Probabilistic Hough Lines\n",
    "\n",
    "cv2.HoughLinesP(binarized image, rho accuracy, theta accuracy, threshold, minimum line liength, max line gap)"
   ]
  },
  {
   "cell_type": "code",
   "execution_count": 20,
   "metadata": {},
   "outputs": [],
   "source": [
    "import cv2\n",
    "import numpy as np"
   ]
  },
  {
   "cell_type": "code",
   "execution_count": 22,
   "metadata": {},
   "outputs": [
    {
     "name": "stdout",
     "output_type": "stream",
     "text": [
      "(395, 1, 4)\n"
     ]
    }
   ],
   "source": [
    "# Grayscale and Canny edges extraction\n",
    "image = cv2.imread('G:\\[FreeTutorials.Us] master-computer-vision-with-opencv-in-python\\material\\Master OpenCV\\images\\soduku.jpg')\n",
    "gray = cv2.cvtColor(image, cv2.COLOR_BGR2GRAY)\n",
    "edges = cv2.Canny(gray, 100, 170, apertureSize = 3)\n",
    "\n",
    "# Use sample parameters for accuracy\n",
    "lines = cv2.HoughLinesP(edges, 1 , np.pi/180 ,100,5,10)\n",
    "print(lines.shape)\n",
    "\n",
    "for i in range(len(lines)):\n",
    "    for x1,y1,x2,y2 in lines[i]:\n",
    "        cv2.line(image,(x1,y1),(x2,y2),(0,255,0),3)\n",
    "\n",
    "cv2.imshow('Probabilistic Hough Lines', image)\n",
    "cv2.waitKey(0)\n",
    "cv2.destroyAllWindows()\n"
   ]
  }
 ],
 "metadata": {
  "kernelspec": {
   "display_name": "Python 3",
   "language": "python",
   "name": "python3"
  },
  "language_info": {
   "codemirror_mode": {
    "name": "ipython",
    "version": 3
   },
   "file_extension": ".py",
   "mimetype": "text/x-python",
   "name": "python",
   "nbconvert_exporter": "python",
   "pygments_lexer": "ipython3",
   "version": "3.7.1"
  }
 },
 "nbformat": 4,
 "nbformat_minor": 2
}
