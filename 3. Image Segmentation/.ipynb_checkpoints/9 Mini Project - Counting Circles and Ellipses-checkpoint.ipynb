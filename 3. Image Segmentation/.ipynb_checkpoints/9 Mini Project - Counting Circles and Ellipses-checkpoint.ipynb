{
 "cells": [
  {
   "cell_type": "code",
   "execution_count": 1,
   "metadata": {},
   "outputs": [],
   "source": [
    "import cv2\n",
    "import numpy as np"
   ]
  },
  {
   "cell_type": "code",
   "execution_count": 2,
   "metadata": {},
   "outputs": [
    {
     "name": "stdout",
     "output_type": "stream",
     "text": [
      "G:\\[FreeTutorials.Us] master-computer-vision-with-opencv-in-python\\master-computer-vision-codes\\3. Image Segmentation\n"
     ]
    }
   ],
   "source": [
    "import os\n",
    "print(os.getcwd())"
   ]
  },
  {
   "cell_type": "code",
   "execution_count": 15,
   "metadata": {},
   "outputs": [],
   "source": [
    "image = cv2.imread('G:\\[FreeTutorials.Us] master-computer-vision-with-opencv-in-python\\material/Master OpenCV/images/blobs.jpg',0)\n",
    "cv2.imshow('Orignal Image',image)\n",
    "cv2.waitKey(0)\n",
    "\n",
    "# Initialize the detector using default parameters\n",
    "detector = cv2.SimpleBlobDetector_create()\n",
    "\n",
    "# Detect blobs\n",
    "keypoints = detector.detect(image)\n",
    "\n",
    "# Draw blobs on our image as red circles\n",
    "blank = np.zeros((1,1))\n",
    "blobs = cv2.drawKeypoints(image,keypoints,blank,(0,0,255),\n",
    "                         cv2.DRAW_MATCHES_FLAGS_DRAW_RICH_KEYPOINTS)\n",
    "\n",
    "number_of_blobs = len(keypoints)\n",
    "text = 'Total number of blobs: '+ str(len(keypoints))\n",
    "cv2.putText(blobs,text,(20,550),cv2.FONT_HERSHEY_SIMPLEX,1,(100,0,255),2)\n",
    "\n",
    "# Display image with blob keypoints\n",
    "cv2.imshow('Blobs using default parameters', blobs)\n",
    "cv2.waitKey(0)\n",
    "\n",
    "\n",
    "# Set our filtering parameters\n",
    "# Initialize parameter setting using cv2.SimpleBlobDetector\n",
    "params = cv2.SimpleBlobDetector_Params()\n",
    "\n",
    "# Set Area filtering parameters\n",
    "params.filterByArea = True\n",
    "params.minArea = 100\n",
    "\n",
    "# Set circularity filtering parameters\n",
    "params.filterByCircularity = True\n",
    "params.minCircularity = 0.9\n",
    "\n",
    "# Set convexity filtering parameters\n",
    "params.filterByConvexity = False\n",
    "params.minConvexity = 0.2\n",
    "\n",
    "# Set inertial filtering parameters\n",
    "params.filterByInertia = True\n",
    "params.minInertiaRatio = 0.01\n",
    "\n",
    "# Create a detector with the parameters\n",
    "detector = cv2.SimpleBlobDetector_create(params)\n",
    "\n",
    "# Detect blobs\n",
    "keypoints = detector.detect(image)\n",
    "\n",
    "# Draw blobs on our image as red circles\n",
    "blank = np.zeros((1,1))\n",
    "blobs = cv2.drawKeypoints(image,keypoints,blank,(0,255,0),\n",
    "                         cv2.DRAW_MATCHES_FLAGS_DRAW_RICH_KEYPOINTS)\n",
    "number_of_blobs = len(keypoints)\n",
    "text = 'Number of circular blobs' + str(len(keypoints))\n",
    "cv2.putText(blobs,text,(20,550), cv2.FONT_HERSHEY_SIMPLEX, 1, (0,100,255),2)\n",
    "\n",
    "# Show blobs\n",
    "cv2.imshow('Filtering circular blobs only',blobs)\n",
    "cv2.waitKey(0)\n",
    "cv2.destroyAllWindows()\n"
   ]
  },
  {
   "cell_type": "code",
   "execution_count": 13,
   "metadata": {},
   "outputs": [],
   "source": [
    "cv2.destroyAllWindows()"
   ]
  },
  {
   "cell_type": "markdown",
   "metadata": {},
   "source": [
    "<img src = 'blobFiltering.jpg'>"
   ]
  }
 ],
 "metadata": {
  "kernelspec": {
   "display_name": "Python 3",
   "language": "python",
   "name": "python3"
  },
  "language_info": {
   "codemirror_mode": {
    "name": "ipython",
    "version": 3
   },
   "file_extension": ".py",
   "mimetype": "text/x-python",
   "name": "python",
   "nbconvert_exporter": "python",
   "pygments_lexer": "ipython3",
   "version": "3.7.1"
  }
 },
 "nbformat": 4,
 "nbformat_minor": 2
}
