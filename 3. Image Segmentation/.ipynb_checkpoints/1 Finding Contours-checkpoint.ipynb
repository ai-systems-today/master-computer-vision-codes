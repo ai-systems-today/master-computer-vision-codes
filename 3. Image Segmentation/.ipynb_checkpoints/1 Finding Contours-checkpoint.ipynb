{
 "cells": [
  {
   "cell_type": "code",
   "execution_count": 1,
   "metadata": {},
   "outputs": [],
   "source": [
    "import cv2\n",
    "import numpy as np"
   ]
  },
  {
   "cell_type": "code",
   "execution_count": 2,
   "metadata": {},
   "outputs": [
    {
     "name": "stdout",
     "output_type": "stream",
     "text": [
      "G:\\[FreeTutorials.Us] master-computer-vision-with-opencv-in-python\\master-computer-vision-codes\\3. Image Segmentation\n"
     ]
    }
   ],
   "source": [
    "import os\n",
    "print(os.getcwd())"
   ]
  },
  {
   "cell_type": "code",
   "execution_count": 5,
   "metadata": {},
   "outputs": [],
   "source": [
    "image = cv2.imread('G:\\[FreeTutorials.Us] master-computer-vision-with-opencv-in-python\\material\\Master OpenCV\\images\\shapes_donut.jpg')"
   ]
  },
  {
   "cell_type": "code",
   "execution_count": 6,
   "metadata": {},
   "outputs": [
    {
     "name": "stdout",
     "output_type": "stream",
     "text": [
      "Number of contours found = 8\n"
     ]
    }
   ],
   "source": [
    "cv2.imshow('Input Image',image)\n",
    "cv2.waitKey(0)\n",
    "\n",
    "#grayscale\n",
    "gray = cv2.cvtColor(image,cv2.COLOR_BGR2GRAY)\n",
    "\n",
    "# find canny edges\n",
    "edge = cv2.Canny(gray,30,200)\n",
    "cv2.imshow('Canny Edges',edge)\n",
    "cv2.waitKey(0)\n",
    "\n",
    "# Finding contours\n",
    "# use a copy of your image eg edge.copy() since findContours alters the image\n",
    "\n",
    "img_modified,contours, hierarchy = cv2.findContours(edge,cv2.RETR_LIST,cv2.CHAIN_APPROX_NONE)\n",
    "cv2.imshow('Canny edges after contouring',edge)\n",
    "cv2.waitKey(0)\n",
    "\n",
    "print('Number of contours found = '+ str(len(contours)))\n",
    "# draw all contours, put -1 as the third parameter to draw all contours\n",
    "cv2.drawContours(image,contours,-1,(0,255,0),2)\n",
    "cv2.imshow('Contours',image)\n",
    "cv2.waitKey(0)\n",
    "\n",
    "cv2.destroyAllWindows()"
   ]
  },
  {
   "cell_type": "code",
   "execution_count": 5,
   "metadata": {},
   "outputs": [
    {
     "name": "stdout",
     "output_type": "stream",
     "text": [
      "[array([[[367, 158]],\n",
      "\n",
      "       [[368, 157]],\n",
      "\n",
      "       [[369, 157]],\n",
      "\n",
      "       ...,\n",
      "\n",
      "       [[366, 161]],\n",
      "\n",
      "       [[366, 160]],\n",
      "\n",
      "       [[366, 159]]], dtype=int32), array([[[368, 157]],\n",
      "\n",
      "       [[367, 158]],\n",
      "\n",
      "       [[366, 159]],\n",
      "\n",
      "       ...,\n",
      "\n",
      "       [[371, 157]],\n",
      "\n",
      "       [[370, 157]],\n",
      "\n",
      "       [[369, 157]]], dtype=int32), array([[[101, 119]],\n",
      "\n",
      "       [[102, 118]],\n",
      "\n",
      "       [[103, 118]],\n",
      "\n",
      "       ...,\n",
      "\n",
      "       [[ 98, 120]],\n",
      "\n",
      "       [[ 99, 119]],\n",
      "\n",
      "       [[100, 119]]], dtype=int32), array([[[102, 118]],\n",
      "\n",
      "       [[101, 119]],\n",
      "\n",
      "       [[100, 119]],\n",
      "\n",
      "       ...,\n",
      "\n",
      "       [[105, 118]],\n",
      "\n",
      "       [[104, 118]],\n",
      "\n",
      "       [[103, 118]]], dtype=int32), array([[[519,  64]],\n",
      "\n",
      "       [[520,  63]],\n",
      "\n",
      "       [[521,  63]],\n",
      "\n",
      "       ...,\n",
      "\n",
      "       [[518,  67]],\n",
      "\n",
      "       [[518,  66]],\n",
      "\n",
      "       [[518,  65]]], dtype=int32), array([[[520,  63]],\n",
      "\n",
      "       [[519,  64]],\n",
      "\n",
      "       [[518,  65]],\n",
      "\n",
      "       ...,\n",
      "\n",
      "       [[523,  63]],\n",
      "\n",
      "       [[522,  63]],\n",
      "\n",
      "       [[521,  63]]], dtype=int32), array([[[15, 20]],\n",
      "\n",
      "       [[16, 19]],\n",
      "\n",
      "       [[17, 19]],\n",
      "\n",
      "       ...,\n",
      "\n",
      "       [[14, 23]],\n",
      "\n",
      "       [[15, 22]],\n",
      "\n",
      "       [[15, 21]]], dtype=int32), array([[[16, 19]],\n",
      "\n",
      "       [[15, 20]],\n",
      "\n",
      "       [[15, 21]],\n",
      "\n",
      "       ...,\n",
      "\n",
      "       [[19, 19]],\n",
      "\n",
      "       [[18, 19]],\n",
      "\n",
      "       [[17, 19]]], dtype=int32)]\n"
     ]
    }
   ],
   "source": [
    "print(contours)"
   ]
  },
  {
   "cell_type": "markdown",
   "metadata": {},
   "source": [
    "OpenCV stores contours in a list of lists\n",
    "<img src = 'image.png'>\n",
    "<img src = 'image2.png'>"
   ]
  }
 ],
 "metadata": {
  "kernelspec": {
   "display_name": "Python 3",
   "language": "python",
   "name": "python3"
  },
  "language_info": {
   "codemirror_mode": {
    "name": "ipython",
    "version": 3
   },
   "file_extension": ".py",
   "mimetype": "text/x-python",
   "name": "python",
   "nbconvert_exporter": "python",
   "pygments_lexer": "ipython3",
   "version": "3.7.1"
  }
 },
 "nbformat": 4,
 "nbformat_minor": 2
}
