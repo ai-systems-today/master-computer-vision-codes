{
 "cells": [
  {
   "cell_type": "markdown",
   "metadata": {},
   "source": [
    "# Circle Detection with Hough Cirlces\n",
    "\n",
    "cv2.HoughCircles(image, method, dp, MinDist, param1, param2, minRadius, MaxRadius)\n",
    "\n",
    "  -  Method - currently only cv2.HOUGH_GRADIENT available\n",
    "  -  dp - Inverse ratio of accumulator resolution\n",
    "  -  MinDist - the minimum distance between the center of detected circles\n",
    "  -  param1 - Gradient value used in the edge detection\n",
    "  -  param2 - Accumulator threshold for the HOUGH_GRADIENT method, lower allows more circles to be detected (false positives)\n",
    "  -  minRadius - limits the smallest circle to this size (via radius)\n",
    "  -  MaxRadius - similarly sets the limit for the largest circles"
   ]
  },
  {
   "cell_type": "code",
   "execution_count": null,
   "metadata": {},
   "outputs": [],
   "source": [
    "import cv2\n",
    "import numpy as np\n",
    "\n",
    "cimg = cv2.imread('G:/[FreeTutorials.Us] master-computer-vision-with-opencv-in-python/material/Master OpenCV/images/bottlecaps.jpg')\n",
    "\n",
    "image = cv2.medianBlur(gray, 5)\n",
    "\n",
    "cv2.imshow('Blurred image',blur)\n",
    "cv2.waitKey(0)\n",
    "\n",
    "circles = cv2.HoughCircles(image, cv2.HOUGH_GRADIENT,1, 20,param1 = 50, param2 = 30,minRadius = 0,maxRadius = 0)\n",
    "\n",
    "circles = np.uint16(np.around(circles))\n",
    "for i in circles[0,:]:\n",
    "       # draw the outer circle\n",
    "       cv2.circle(cimg,(i[0], i[1]), i[2], (255, 0, 0), 2)\n",
    "      \n",
    "       # draw the center of the circle\n",
    "       cv2.circle(cimg, (i[0], i[1]), 2, (0, 255, 0), 5)\n",
    "\n",
    "cv2.imshow('Detected circles', cimg)\n",
    "cv2.waitKey(0)\n",
    "cv2.destroyAllWindows()"
   ]
  },
  {
   "cell_type": "code",
   "execution_count": null,
   "metadata": {},
   "outputs": [],
   "source": [
    "import os\n",
    "print(os.getcwd())"
   ]
  },
  {
   "cell_type": "code",
   "execution_count": 1,
   "metadata": {},
   "outputs": [],
   "source": [
    "import cv2\n",
    "import numpy as np\n",
    "\n",
    "img = cv2.imread('G:/[FreeTutorials.Us] master-computer-vision-with-opencv-in-python/material/Master OpenCV/images/bottlecaps.jpg',0)\n",
    "img = cv2.medianBlur(img,5)\n",
    "cimg = cv2.cvtColor(img,cv2.COLOR_GRAY2BGR)\n",
    "\n",
    "circles = cv2.HoughCircles(img,cv2.HOUGH_GRADIENT,1,20,\n",
    "                            minRadius=0,maxRadius=0)\n",
    "\n",
    "circles = np.uint16(np.around(circles))\n",
    "for i in circles[0,:]:\n",
    "    # draw the outer circle\n",
    "    cv2.circle(cimg,(i[0],i[1]),i[2],(0,255,0),2)\n",
    "    # draw the center of the circle\n",
    "    cv2.circle(cimg,(i[0],i[1]),2,(0,0,255),3)\n",
    "\n",
    "cv2.imshow('detected circles',cimg)\n",
    "cv2.waitKey(0)\n",
    "cv2.destroyAllWindows()"
   ]
  },
  {
   "cell_type": "code",
   "execution_count": null,
   "metadata": {},
   "outputs": [],
   "source": []
  }
 ],
 "metadata": {
  "kernelspec": {
   "display_name": "Python 3",
   "language": "python",
   "name": "python3"
  },
  "language_info": {
   "codemirror_mode": {
    "name": "ipython",
    "version": 3
   },
   "file_extension": ".py",
   "mimetype": "text/x-python",
   "name": "python",
   "nbconvert_exporter": "python",
   "pygments_lexer": "ipython3",
   "version": "3.7.1"
  }
 },
 "nbformat": 4,
 "nbformat_minor": 2
}
