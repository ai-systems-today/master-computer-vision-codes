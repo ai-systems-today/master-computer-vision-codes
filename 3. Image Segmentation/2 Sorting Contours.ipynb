{
 "cells": [
  {
   "cell_type": "code",
   "execution_count": 1,
   "metadata": {},
   "outputs": [],
   "source": [
    "import cv2\n",
    "import numpy as np"
   ]
  },
  {
   "cell_type": "code",
   "execution_count": 2,
   "metadata": {},
   "outputs": [
    {
     "name": "stdout",
     "output_type": "stream",
     "text": [
      "G:\\[FreeTutorials.Us] master-computer-vision-with-opencv-in-python\\master-computer-vision-codes\\3. Image Segmentation\n"
     ]
    }
   ],
   "source": [
    "import os\n",
    "print(os.getcwd())"
   ]
  },
  {
   "cell_type": "code",
   "execution_count": 3,
   "metadata": {},
   "outputs": [],
   "source": [
    "image = cv2.imread('G:\\[FreeTutorials.Us] master-computer-vision-with-opencv-in-python\\material\\Master OpenCV\\images\\shapes2.jpg')"
   ]
  },
  {
   "cell_type": "code",
   "execution_count": 4,
   "metadata": {},
   "outputs": [
    {
     "name": "stdout",
     "output_type": "stream",
     "text": [
      "Number of contours found =  4\n"
     ]
    }
   ],
   "source": [
    "cv2.imshow('Original',image)\n",
    "cv2.waitKey(0)\n",
    "\n",
    "# create a black image with same dimensions as our original image\n",
    "blank_image = np.zeros(image.shape,)\n",
    "original_image = image.copy()\n",
    "\n",
    "# grayscale our image\n",
    "gray = cv2.cvtColor(image,cv2.COLOR_BGR2GRAY)\n",
    "\n",
    "# find canny edges\n",
    "edge = cv2.Canny(gray,50,150)\n",
    "cv2.imshow('Canny edges',edge)\n",
    "cv2.waitKey(0)\n",
    "\n",
    "# find contours and print how many were found\n",
    "_,contours, hierarchy = cv2.findContours(edge.copy(),cv2.RETR_EXTERNAL,cv2.CHAIN_APPROX_NONE)\n",
    "print('Number of contours found = ',len(contours))\n",
    "\n",
    "# draw all contours over blank image\n",
    "cv2.drawContours(blank_image,contours,-1,(0,255,0),3)\n",
    "cv2.imshow('All contours over blank image',blank_image)\n",
    "cv2.waitKey(0)\n",
    "\n",
    "cv2.drawContours(image,contours,-1,(0,255,0),3)\n",
    "cv2.imshow('All contours',image)\n",
    "cv2.waitKey(0)\n",
    "\n",
    "cv2.destroyAllWindows()"
   ]
  },
  {
   "cell_type": "code",
   "execution_count": 5,
   "metadata": {},
   "outputs": [
    {
     "name": "stdout",
     "output_type": "stream",
     "text": [
      "9590.0\n",
      "13920.0\n",
      "23099.0\n",
      "50165.0\n",
      "Contours areas before sorting [9590.0, 13920.0, 23099.0, 50165.0]\n",
      "50165.0\n",
      "23099.0\n",
      "13920.0\n",
      "9590.0\n",
      "Contour areas after sorting [50165.0, 23099.0, 13920.0, 9590.0]\n"
     ]
    }
   ],
   "source": [
    "def get_contour_areas(contours):\n",
    "    # return the areas of all contours as list\n",
    "    all_areas= []\n",
    "    for cnt in contours:\n",
    "        area = cv2.contourArea(cnt)\n",
    "        print(area)\n",
    "        all_areas.append(area)\n",
    "    return all_areas\n",
    "\n",
    "image = cv2.imread('G:\\[FreeTutorials.Us] master-computer-vision-with-opencv-in-python\\material\\Master OpenCV\\images\\shapes2.jpg')\n",
    "original_image = image\n",
    "\n",
    "# print areas\n",
    "print('Contours areas before sorting',get_contour_areas(contours))\n",
    "\n",
    "# sort contours large to small\n",
    "sorted_contours = sorted(contours, key = cv2.contourArea, reverse=True)\n",
    "\n",
    "print('Contour areas after sorting',get_contour_areas(sorted_contours))\n",
    "\n",
    "# Iterate over sorted contours and draw one at a time\n",
    "for c in sorted_contours:\n",
    "    cv2.drawContours(original_image,[c],-1,(255,0,0),3)\n",
    "    cv2.waitKey(0)\n",
    "    cv2.imshow('Contours by area', original_image)\n",
    "cv2.waitKey(0)\n",
    "cv2.destroyAllWindows()\n",
    "\n",
    "# somethings wrong with this code\n"
   ]
  },
  {
   "cell_type": "code",
   "execution_count": 6,
   "metadata": {},
   "outputs": [
    {
     "name": "stdout",
     "output_type": "stream",
     "text": [
      "{'m00': 50165.0, 'm10': 20166646.666666664, 'm01': 8728380.833333332, 'm20': 8316789195.833333, 'm11': 3508898906.25, 'm02': 1728348270.6666665, 'm30': 3511978606212.4004, 'm21': 1447092366765.1167, 'm12': 694821478866.2167, 'm03': 373682877185.35004, 'mu20': 209669933.83437538, 'mu11': 34713.327865600586, 'mu02': 209667278.5067804, 'mu30': -424148.29052734375, 'mu21': -2291156.158721924, 'mu12': 2484073.627471924, 'mu03': 157575.99627685547, 'nu20': 0.08331717286880351, 'nu11': 1.379413960665599e-05, 'nu02': 0.0833161177132826, 'nu30': -7.5251589808686e-07, 'nu21': -4.064926048138153e-06, 'nu12': 4.407196582984718e-06, 'nu03': 2.795683608857199e-07}\n"
     ]
    }
   ],
   "source": [
    "print(cv2.moments(sorted_contours[0]))"
   ]
  },
  {
   "cell_type": "markdown",
   "metadata": {},
   "source": [
    "For learning about contours https://docs.opencv.org/3.1.0/dd/d49/tutorial_py_contour_features.html"
   ]
  },
  {
   "cell_type": "code",
   "execution_count": 7,
   "metadata": {},
   "outputs": [],
   "source": [
    "import cv2\n",
    "import numpy as np\n",
    "\n",
    "# returns the X coordinate of the contour centroid\n",
    "def x_cord_contour(contours):\n",
    "    if cv2.contourArea(contours) > 10:\n",
    "        M = cv2.moments(contours) # returns the centre point of contour\n",
    "        return (int(M['m10']/M['m00']))\n",
    "\n",
    "def label_contour_center(image, c, i):\n",
    "    # place a red circle at the center of contours\n",
    "    M = cv2.moments(c)\n",
    "    cx = int(M['m10']/M['m00'])\n",
    "    cy = int(M['m01']/M['m00'])\n",
    "    \n",
    "    cv2.circle(image,(cx,cy),10,(0,0,255),-1)\n",
    "    return image\n"
   ]
  },
  {
   "cell_type": "code",
   "execution_count": 8,
   "metadata": {},
   "outputs": [
    {
     "name": "stdout",
     "output_type": "stream",
     "text": [
      "G:\\[FreeTutorials.Us] master-computer-vision-with-opencv-in-python\\master-computer-vision-codes\\3. Image Segmentation\n"
     ]
    }
   ],
   "source": [
    "import os \n",
    "print(os.getcwd())"
   ]
  },
  {
   "cell_type": "code",
   "execution_count": 9,
   "metadata": {},
   "outputs": [
    {
     "name": "stdout",
     "output_type": "stream",
     "text": [
      "<enumerate object at 0x0000018859763630>\n"
     ]
    }
   ],
   "source": [
    "print(enumerate(contours))"
   ]
  },
  {
   "cell_type": "code",
   "execution_count": 18,
   "metadata": {},
   "outputs": [
    {
     "name": "stdout",
     "output_type": "stream",
     "text": [
      "out_shape_number_1.jpg\n",
      "out_shape_number_2.jpg\n",
      "out_shape_number_3.jpg\n",
      "out_shape_number_4.jpg\n"
     ]
    }
   ],
   "source": [
    "# loading our image\n",
    "image = cv2.imread('G:\\[FreeTutorials.Us] master-computer-vision-with-opencv-in-python\\material\\Master OpenCV\\images\\shapes2.jpg')\n",
    "cv2.imshow('Original Image',image)\n",
    "cv2.waitKey(0)\n",
    "# computing centroids and drawing them in the image\n",
    "\n",
    "for (i,c) in enumerate(contours):\n",
    "    orig = label_contour_center(image,c,i)\n",
    "    \n",
    "cv2.imshow('Contour centers',image)\n",
    "cv2.waitKey(0)\n",
    "\n",
    "# Sort by left to right using our x_cord_contour function\n",
    "contours_left_to_right = sorted(contours, key = x_cord_contour, reverse = False)\n",
    "\n",
    "# Labelling contours left to right\n",
    "\n",
    "for (i,c) in enumerate(contours_left_to_right):\n",
    "    cv2.drawContours(original_image, [c], -1,(0,0,255),3)\n",
    "    M = cv2.moments(c)\n",
    "    cx = int(M['m10']/M['m00'])\n",
    "    cy = int(M['m01']/M['m00'])\n",
    "    \n",
    "    cv2.putText(original_image, str(i+1),(cx,cy),cv2.FONT_HERSHEY_SIMPLEX,1,(0,255,0),2)\n",
    "    cv2.imshow('Left to Right Contour', original_image)\n",
    "    cv2.waitKey(0)\n",
    "    (x,y,w,h) = cv2.boundingRect(c)\n",
    "    \n",
    "    # Lets now crop each contour and save these images\n",
    "    cropped_contour = original_image[y:y+h,x:x+w]\n",
    "    image_name = 'out_shape_number_' + str(i+1)+'.jpg'\n",
    "    print(image_name)\n",
    "    cv2.imwrite(image_name, cropped_contour)\n",
    "    \n",
    "\n",
    "\n",
    "cv2.waitKey(0)\n",
    "cv2.destroyAllWindows()"
   ]
  },
  {
   "cell_type": "code",
   "execution_count": 15,
   "metadata": {},
   "outputs": [
    {
     "data": {
      "text/plain": [
       "[(0, 'a'), (1, 'b'), (2, 'c')]"
      ]
     },
     "execution_count": 15,
     "metadata": {},
     "output_type": "execute_result"
    }
   ],
   "source": [
    "list(enumerate(['a','b','c']))\n",
    "    \n"
   ]
  }
 ],
 "metadata": {
  "kernelspec": {
   "display_name": "Python 3",
   "language": "python",
   "name": "python3"
  },
  "language_info": {
   "codemirror_mode": {
    "name": "ipython",
    "version": 3
   },
   "file_extension": ".py",
   "mimetype": "text/x-python",
   "name": "python",
   "nbconvert_exporter": "python",
   "pygments_lexer": "ipython3",
   "version": "3.7.1"
  }
 },
 "nbformat": 4,
 "nbformat_minor": 2
}
