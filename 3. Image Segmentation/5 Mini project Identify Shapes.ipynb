{
 "cells": [
  {
   "cell_type": "code",
   "execution_count": 1,
   "metadata": {},
   "outputs": [],
   "source": [
    "import numpy as np\n",
    "import cv2"
   ]
  },
  {
   "cell_type": "code",
   "execution_count": 2,
   "metadata": {},
   "outputs": [
    {
     "name": "stdout",
     "output_type": "stream",
     "text": [
      "G:\\[FreeTutorials.Us] master-computer-vision-with-opencv-in-python\\master-computer-vision-codes\\3. Image Segmentation\n"
     ]
    }
   ],
   "source": [
    "import os \n",
    "print(os.getcwd())"
   ]
  },
  {
   "cell_type": "code",
   "execution_count": 10,
   "metadata": {},
   "outputs": [],
   "source": [
    "# Load image and grayscale it\n",
    "\n",
    "image = cv2.imread('G:\\[FreeTutorials.Us] master-computer-vision-with-opencv-in-python\\material\\Master OpenCV\\images\\someshapes.jpg')\n",
    "gray = cv2.cvtColor(image, cv2.COLOR_BGR2GRAY)\n",
    "\n",
    "cv2.imshow('Identifying shapes', image)\n",
    "cv2.waitKey(0)\n",
    "\n",
    "ret, thresh = cv2.threshold(gray, 127, 255, 1)\n",
    "\n",
    "# Extract contours\n",
    "_, contours, hierarchy = cv2.findContours(thresh.copy(), cv2.RETR_LIST, cv2.CHAIN_APPROX_NONE)\n",
    "\n",
    "for cnt in contours:\n",
    "    \n",
    "    # Get approximate contours\n",
    "    approx = cv2.approxPolyDP(cnt, 0.01*cv2.arcLength(cnt,True), True)\n",
    "    \n",
    "    if len(approx) == 3:\n",
    "        shape_name = 'Triangle'\n",
    "        cv2.drawContours(image,[cnt],0,(0,255,0),-1)\n",
    "        \n",
    "        # Find contour center to place text\n",
    "        M = cv2.moments(cnt)\n",
    "        cx = int(M['m10']/M['m00'])\n",
    "        cy = int(M['m01']/M['m00'])\n",
    "        cv2.putText(image,shape_name,(cx-50,cy), cv2.FONT_HERSHEY_SIMPLEX, 1, (0,0,0), 1)\n",
    "    \n",
    "    elif len(approx) == 4:\n",
    "        x,y,w,h = cv2.boundingRect(cnt)\n",
    "        M = cv2.moments(cnt)\n",
    "        cx = int(M['m10']/M['m00'])\n",
    "        cy = int(M['m01']/M['m00'])\n",
    "        \n",
    "        # Check if it is square or rectangle\n",
    "        if abs(w-h) <= 3:\n",
    "            shape_name = 'Square'\n",
    "            cv2.drawContours(image,[cnt],0,(255,125,125),-1)\n",
    "            cv2.putText(image , shape_name, (cx-50,cy), cv2.FONT_HERSHEY_SIMPLEX,1,(0,0,0),1)\n",
    "        else:\n",
    "            shape_name = 'Rectangle'\n",
    "            cv2.drawContours(image,[cnt],0,(0,0,255),-1)\n",
    "            M = cv2.moments(cnt)\n",
    "            cx = int(M['m10']/M['m00'])\n",
    "            cy = int(M['m01']/M['m00'])\n",
    "            cv2.putText(image , shape_name, (cx-50,cy), cv2.FONT_HERSHEY_SIMPLEX,1,(0,0,0),1)\n",
    "    \n",
    "    elif len(approx) == 10:\n",
    "        shape_name = 'Star'\n",
    "        cv2.drawContours(image,[cnt],0,(0,255,255),-1)\n",
    "        M = cv2.moments(cnt)\n",
    "        cx = int(M['m10']/M['m00'])\n",
    "        cy = int(M['m01']/M['m00'])\n",
    "        cv2.putText(image , shape_name, (cx-50,cy), cv2.FONT_HERSHEY_SIMPLEX,1,(0,0,0),1)\n",
    "    \n",
    "    elif len(approx) >= 15:\n",
    "        shape_name = 'Circle'\n",
    "        cv2.drawContours(image,[cnt],0,(255,0,255),-1)\n",
    "        M = cv2.moments(cnt)\n",
    "        cx = int(M['m10']/M['m00'])\n",
    "        cy = int(M['m01']/M['m00'])\n",
    "        cv2.putText(image , shape_name, (cx-50,cy), cv2.FONT_HERSHEY_SIMPLEX,1,(0,0,0),1)\n",
    "    \n",
    "    cv2.imshow('Identifying Shapes',image)\n",
    "    cv2.waitKey(0)\n",
    "                            \n",
    "    \n",
    "\n",
    "\n",
    "cv2.waitKey(0)\n",
    "cv2.destroyAllWindows()"
   ]
  },
  {
   "cell_type": "code",
   "execution_count": 4,
   "metadata": {},
   "outputs": [],
   "source": [
    "cv2.destroyAllWindows()"
   ]
  }
 ],
 "metadata": {
  "kernelspec": {
   "display_name": "Python 3",
   "language": "python",
   "name": "python3"
  },
  "language_info": {
   "codemirror_mode": {
    "name": "ipython",
    "version": 3
   },
   "file_extension": ".py",
   "mimetype": "text/x-python",
   "name": "python",
   "nbconvert_exporter": "python",
   "pygments_lexer": "ipython3",
   "version": "3.7.1"
  }
 },
 "nbformat": 4,
 "nbformat_minor": 2
}
